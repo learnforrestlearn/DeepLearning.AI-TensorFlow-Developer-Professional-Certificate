{
  "nbformat": 4,
  "nbformat_minor": 0,
  "metadata": {
    "accelerator": "GPU",
    "colab": {
      "name": "NLP Course - Week 3 Exercise Answer.ipynb",
      "provenance": [],
      "toc_visible": true
    },
    "kernelspec": {
      "display_name": "Python 3",
      "language": "python",
      "name": "python3"
    },
    "language_info": {
      "codemirror_mode": {
        "name": "ipython",
        "version": 3
      },
      "file_extension": ".py",
      "mimetype": "text/x-python",
      "name": "python",
      "nbconvert_exporter": "python",
      "pygments_lexer": "ipython3",
      "version": "3.7.6"
    }
  },
  "cells": [
    {
      "cell_type": "code",
      "metadata": {
        "colab_type": "code",
        "id": "zX4Kg8DUTKWO",
        "colab": {}
      },
      "source": [
        "#@title Licensed under the Apache License, Version 2.0 (the \"License\");\n",
        "# you may not use this file except in compliance with the License.\n",
        "# You may obtain a copy of the License at\n",
        "#\n",
        "# https://www.apache.org/licenses/LICENSE-2.0\n",
        "#\n",
        "# Unless required by applicable law or agreed to in writing, software\n",
        "# distributed under the License is distributed on an \"AS IS\" BASIS,\n",
        "# WITHOUT WARRANTIES OR CONDITIONS OF ANY KIND, either express or implied.\n",
        "# See the License for the specific language governing permissions and\n",
        "# limitations under the License."
      ],
      "execution_count": 1,
      "outputs": []
    },
    {
      "cell_type": "markdown",
      "metadata": {
        "id": "6taQFSsnV7Zq",
        "colab_type": "text"
      },
      "source": [
        "<a href=\"https://colab.research.google.com/github/lmoroney/dlaicourse/blob/master/TensorFlow%20In%20Practice/Course%203%20-%20NLP/NLP%20Course%20-%20Week%203%20Exercise%20Answer.ipynb\" target=\"_parent\"><img src=\"https://colab.research.google.com/assets/colab-badge.svg\" alt=\"Open In Colab\"/></a>"
      ]
    },
    {
      "cell_type": "code",
      "metadata": {
        "colab_type": "code",
        "id": "hmA6EzkQJ5jt",
        "colab": {}
      },
      "source": [
        "import json\n",
        "import tensorflow as tf\n",
        "import csv\n",
        "import random\n",
        "import numpy as np\n",
        "\n",
        "from tensorflow.keras.preprocessing.text import Tokenizer\n",
        "from tensorflow.keras.preprocessing.sequence import pad_sequences\n",
        "from tensorflow.keras.utils import to_categorical\n",
        "from tensorflow.keras import regularizers\n",
        "\n",
        "\n",
        "embedding_dim = 100\n",
        "max_length = 16\n",
        "trunc_type='post'\n",
        "padding_type='post'\n",
        "oov_tok = \"<OOV>\"\n",
        "training_size=160000\n",
        "test_portion=.1\n",
        "\n",
        "corpus = []\n"
      ],
      "execution_count": 2,
      "outputs": []
    },
    {
      "cell_type": "code",
      "metadata": {
        "colab_type": "code",
        "id": "bM0l_dORKqE0",
        "colab": {
          "base_uri": "https://localhost:8080/",
          "height": 224
        },
        "outputId": "bb231290-ebae-4719-8858-2902f42a2630"
      },
      "source": [
        "# Note that I cleaned the Stanford dataset to remove LATIN1 encoding to make it easier for Python CSV reader\n",
        "# You can do that yourself with:\n",
        "# iconv -f LATIN1 -t UTF8 training.1600000.processed.noemoticon.csv -o training_cleaned.csv\n",
        "# I then hosted it on my site to make it easier to use in this notebook\n",
        "\n",
        "!wget --no-check-certificate \\\n",
        "    https://storage.googleapis.com/laurencemoroney-blog.appspot.com/training_cleaned.csv \\\n",
        "    -O /tmp/training_cleaned.csv\n",
        "\n",
        "num_sentences = 0\n",
        "\n",
        "with open(\"/tmp/training_cleaned.csv\") as csvfile:\n",
        "    reader = csv.reader(csvfile, delimiter=',')\n",
        "    for row in reader:\n",
        "        list_item=[]\n",
        "        list_item.append(row[5])\n",
        "        this_label=row[0]\n",
        "        if this_label=='0':\n",
        "            list_item.append(0)\n",
        "        else:\n",
        "            list_item.append(1)\n",
        "        num_sentences = num_sentences + 1\n",
        "        corpus.append(list_item)\n"
      ],
      "execution_count": 3,
      "outputs": [
        {
          "output_type": "stream",
          "text": [
            "--2020-09-15 19:58:08--  https://storage.googleapis.com/laurencemoroney-blog.appspot.com/training_cleaned.csv\n",
            "Resolving storage.googleapis.com (storage.googleapis.com)... 74.125.142.128, 74.125.195.128, 173.194.202.128, ...\n",
            "Connecting to storage.googleapis.com (storage.googleapis.com)|74.125.142.128|:443... connected.\n",
            "HTTP request sent, awaiting response... 200 OK\n",
            "Length: 238942690 (228M) [application/octet-stream]\n",
            "Saving to: ‘/tmp/training_cleaned.csv’\n",
            "\n",
            "/tmp/training_clean 100%[===================>] 227.87M   232MB/s    in 1.0s    \n",
            "\n",
            "2020-09-15 19:58:09 (232 MB/s) - ‘/tmp/training_cleaned.csv’ saved [238942690/238942690]\n",
            "\n"
          ],
          "name": "stdout"
        }
      ]
    },
    {
      "cell_type": "code",
      "metadata": {
        "colab_type": "code",
        "id": "3kxblBUjEUX-",
        "colab": {
          "base_uri": "https://localhost:8080/",
          "height": 88
        },
        "outputId": "a5c08337-bf99-471c-9e3b-f531485672de"
      },
      "source": [
        "print(num_sentences)\n",
        "print(len(corpus))\n",
        "print(corpus[1])\n",
        "\n",
        "# Expected Output:\n",
        "# 1600000\n",
        "# 1600000\n",
        "# [\"is upset that he can't update his Facebook by texting it... and might cry as a result  School today also. Blah!\", 0]"
      ],
      "execution_count": 4,
      "outputs": [
        {
          "output_type": "stream",
          "text": [
            "1600000\n",
            "1600000\n",
            "[\"is upset that he can't update his Facebook by texting it... and might cry as a result  School today also. Blah!\", 0]\n"
          ],
          "name": "stdout"
        }
      ]
    },
    {
      "cell_type": "code",
      "metadata": {
        "colab_type": "code",
        "id": "ohOGz24lsNAD",
        "colab": {}
      },
      "source": [
        "sentences=[]\n",
        "labels=[]\n",
        "random.shuffle(corpus)\n",
        "for x in range(training_size):\n",
        "    sentences.append(corpus[x][0])\n",
        "    labels.append(corpus[x][1])\n",
        "\n",
        "\n",
        "tokenizer = Tokenizer()\n",
        "tokenizer.fit_on_texts(sentences)\n",
        "\n",
        "word_index = tokenizer.word_index\n",
        "vocab_size=len(word_index)\n",
        "\n",
        "sequences = tokenizer.texts_to_sequences(sentences)\n",
        "padded = pad_sequences(sequences, maxlen=max_length, padding=padding_type, truncating=trunc_type)\n",
        "\n",
        "split = int(test_portion * training_size)\n",
        "\n",
        "test_sequences = padded[0:split]\n",
        "training_sequences = padded[split:training_size]\n",
        "test_labels = labels[0:split]\n",
        "training_labels = labels[split:training_size]"
      ],
      "execution_count": 5,
      "outputs": []
    },
    {
      "cell_type": "code",
      "metadata": {
        "colab_type": "code",
        "id": "gIrtRem1En3N",
        "colab": {
          "base_uri": "https://localhost:8080/",
          "height": 51
        },
        "outputId": "46514639-0b73-4fb5-c28e-4afbd818f10e"
      },
      "source": [
        "print(vocab_size)\n",
        "print(word_index['i'])\n",
        "# Expected Output\n",
        "# 138858\n",
        "# 1"
      ],
      "execution_count": 6,
      "outputs": [
        {
          "output_type": "stream",
          "text": [
            "138116\n",
            "1\n"
          ],
          "name": "stdout"
        }
      ]
    },
    {
      "cell_type": "code",
      "metadata": {
        "colab_type": "code",
        "id": "C1zdgJkusRh0",
        "colab": {
          "base_uri": "https://localhost:8080/",
          "height": 224
        },
        "outputId": "eeac424f-1f6e-43b2-83d3-5243b9c67557"
      },
      "source": [
        "# Note this is the 100 dimension version of GloVe from Stanford\n",
        "# I unzipped and hosted it on my site to make this notebook easier\n",
        "!wget --no-check-certificate \\\n",
        "    https://storage.googleapis.com/laurencemoroney-blog.appspot.com/glove.6B.100d.txt \\\n",
        "    -O /tmp/glove.6B.100d.txt\n",
        "embeddings_index = {};\n",
        "with open('/tmp/glove.6B.100d.txt') as f:\n",
        "    for line in f:\n",
        "        values = line.split();\n",
        "        word = values[0];\n",
        "        coefs = np.asarray(values[1:], dtype='float32');\n",
        "        embeddings_index[word] = coefs;\n",
        "\n",
        "embeddings_matrix = np.zeros((vocab_size+1, embedding_dim));\n",
        "for word, i in word_index.items():\n",
        "    embedding_vector = embeddings_index.get(word);\n",
        "    if embedding_vector is not None:\n",
        "        embeddings_matrix[i] = embedding_vector;"
      ],
      "execution_count": 7,
      "outputs": [
        {
          "output_type": "stream",
          "text": [
            "--2020-09-15 19:58:21--  https://storage.googleapis.com/laurencemoroney-blog.appspot.com/glove.6B.100d.txt\n",
            "Resolving storage.googleapis.com (storage.googleapis.com)... 74.125.20.128, 108.177.98.128, 172.253.117.128, ...\n",
            "Connecting to storage.googleapis.com (storage.googleapis.com)|74.125.20.128|:443... connected.\n",
            "HTTP request sent, awaiting response... 200 OK\n",
            "Length: 347116733 (331M) [text/plain]\n",
            "Saving to: ‘/tmp/glove.6B.100d.txt’\n",
            "\n",
            "/tmp/glove.6B.100d. 100%[===================>] 331.04M   172MB/s    in 1.9s    \n",
            "\n",
            "2020-09-15 19:58:23 (172 MB/s) - ‘/tmp/glove.6B.100d.txt’ saved [347116733/347116733]\n",
            "\n"
          ],
          "name": "stdout"
        }
      ]
    },
    {
      "cell_type": "code",
      "metadata": {
        "colab_type": "code",
        "id": "71NLk_lpFLNt",
        "colab": {
          "base_uri": "https://localhost:8080/",
          "height": 34
        },
        "outputId": "b2539c7e-41f4-4990-e8b1-9fd078ab426f"
      },
      "source": [
        "print(len(embeddings_matrix))\n",
        "# Expected Output\n",
        "# 138859"
      ],
      "execution_count": 8,
      "outputs": [
        {
          "output_type": "stream",
          "text": [
            "138117\n"
          ],
          "name": "stdout"
        }
      ]
    },
    {
      "cell_type": "code",
      "metadata": {
        "colab_type": "code",
        "id": "iKKvbuEBOGFz",
        "colab": {
          "base_uri": "https://localhost:8080/",
          "height": 1000
        },
        "outputId": "d78fff9e-55db-489c-daef-42a0230157d6"
      },
      "source": [
        "model = tf.keras.Sequential([\n",
        "    tf.keras.layers.Embedding(vocab_size+1, embedding_dim, input_length=max_length, weights=[embeddings_matrix], trainable=False),\n",
        "    tf.keras.layers.Dropout(0.2),\n",
        "    tf.keras.layers.Conv1D(64, 5, activation='relu'),\n",
        "    tf.keras.layers.MaxPooling1D(pool_size=4),\n",
        "    tf.keras.layers.LSTM(64),\n",
        "    tf.keras.layers.Dense(1, activation='sigmoid')\n",
        "])\n",
        "model.compile(loss='binary_crossentropy',optimizer='adam',metrics=['accuracy'])\n",
        "model.summary()\n",
        "\n",
        "num_epochs = 50\n",
        "\n",
        "training_padded = np.array(training_sequences)\n",
        "training_labels = np.array(training_labels)\n",
        "testing_padded = np.array(test_sequences)\n",
        "testing_labels = np.array(test_labels)\n",
        "\n",
        "history = model.fit(training_padded, training_labels, epochs=num_epochs, validation_data=(testing_padded, testing_labels), verbose=2)\n",
        "\n",
        "print(\"Training Complete\")"
      ],
      "execution_count": 9,
      "outputs": [
        {
          "output_type": "stream",
          "text": [
            "Model: \"sequential\"\n",
            "_________________________________________________________________\n",
            "Layer (type)                 Output Shape              Param #   \n",
            "=================================================================\n",
            "embedding (Embedding)        (None, 16, 100)           13811700  \n",
            "_________________________________________________________________\n",
            "dropout (Dropout)            (None, 16, 100)           0         \n",
            "_________________________________________________________________\n",
            "conv1d (Conv1D)              (None, 12, 64)            32064     \n",
            "_________________________________________________________________\n",
            "max_pooling1d (MaxPooling1D) (None, 3, 64)             0         \n",
            "_________________________________________________________________\n",
            "lstm (LSTM)                  (None, 64)                33024     \n",
            "_________________________________________________________________\n",
            "dense (Dense)                (None, 1)                 65        \n",
            "=================================================================\n",
            "Total params: 13,876,853\n",
            "Trainable params: 65,153\n",
            "Non-trainable params: 13,811,700\n",
            "_________________________________________________________________\n",
            "Epoch 1/50\n",
            "4500/4500 - 15s - loss: 0.5694 - accuracy: 0.6972 - val_loss: 0.5371 - val_accuracy: 0.7232\n",
            "Epoch 2/50\n",
            "4500/4500 - 15s - loss: 0.5317 - accuracy: 0.7284 - val_loss: 0.5165 - val_accuracy: 0.7408\n",
            "Epoch 3/50\n",
            "4500/4500 - 15s - loss: 0.5132 - accuracy: 0.7417 - val_loss: 0.5237 - val_accuracy: 0.7377\n",
            "Epoch 4/50\n",
            "4500/4500 - 15s - loss: 0.5030 - accuracy: 0.7479 - val_loss: 0.5115 - val_accuracy: 0.7437\n",
            "Epoch 5/50\n",
            "4500/4500 - 15s - loss: 0.4939 - accuracy: 0.7548 - val_loss: 0.5023 - val_accuracy: 0.7511\n",
            "Epoch 6/50\n",
            "4500/4500 - 15s - loss: 0.4863 - accuracy: 0.7591 - val_loss: 0.5035 - val_accuracy: 0.7518\n",
            "Epoch 7/50\n",
            "4500/4500 - 15s - loss: 0.4819 - accuracy: 0.7619 - val_loss: 0.5062 - val_accuracy: 0.7500\n",
            "Epoch 8/50\n",
            "4500/4500 - 15s - loss: 0.4755 - accuracy: 0.7663 - val_loss: 0.5090 - val_accuracy: 0.7479\n",
            "Epoch 9/50\n",
            "4500/4500 - 15s - loss: 0.4712 - accuracy: 0.7694 - val_loss: 0.5052 - val_accuracy: 0.7542\n",
            "Epoch 10/50\n",
            "4500/4500 - 15s - loss: 0.4672 - accuracy: 0.7720 - val_loss: 0.5070 - val_accuracy: 0.7526\n",
            "Epoch 11/50\n",
            "4500/4500 - 15s - loss: 0.4624 - accuracy: 0.7745 - val_loss: 0.5112 - val_accuracy: 0.7484\n",
            "Epoch 12/50\n",
            "4500/4500 - 14s - loss: 0.4605 - accuracy: 0.7753 - val_loss: 0.5090 - val_accuracy: 0.7506\n",
            "Epoch 13/50\n",
            "4500/4500 - 15s - loss: 0.4571 - accuracy: 0.7766 - val_loss: 0.5095 - val_accuracy: 0.7492\n",
            "Epoch 14/50\n",
            "4500/4500 - 15s - loss: 0.4560 - accuracy: 0.7792 - val_loss: 0.5148 - val_accuracy: 0.7468\n",
            "Epoch 15/50\n",
            "4500/4500 - 15s - loss: 0.4530 - accuracy: 0.7805 - val_loss: 0.5120 - val_accuracy: 0.7490\n",
            "Epoch 16/50\n",
            "4500/4500 - 15s - loss: 0.4523 - accuracy: 0.7807 - val_loss: 0.5118 - val_accuracy: 0.7463\n",
            "Epoch 17/50\n",
            "4500/4500 - 15s - loss: 0.4493 - accuracy: 0.7827 - val_loss: 0.5186 - val_accuracy: 0.7446\n",
            "Epoch 18/50\n",
            "4500/4500 - 15s - loss: 0.4481 - accuracy: 0.7842 - val_loss: 0.5200 - val_accuracy: 0.7511\n",
            "Epoch 19/50\n",
            "4500/4500 - 15s - loss: 0.4459 - accuracy: 0.7855 - val_loss: 0.5153 - val_accuracy: 0.7498\n",
            "Epoch 20/50\n",
            "4500/4500 - 15s - loss: 0.4444 - accuracy: 0.7863 - val_loss: 0.5173 - val_accuracy: 0.7476\n",
            "Epoch 21/50\n",
            "4500/4500 - 16s - loss: 0.4434 - accuracy: 0.7866 - val_loss: 0.5219 - val_accuracy: 0.7456\n",
            "Epoch 22/50\n",
            "4500/4500 - 15s - loss: 0.4418 - accuracy: 0.7885 - val_loss: 0.5169 - val_accuracy: 0.7463\n",
            "Epoch 23/50\n",
            "4500/4500 - 15s - loss: 0.4423 - accuracy: 0.7872 - val_loss: 0.5190 - val_accuracy: 0.7470\n",
            "Epoch 24/50\n",
            "4500/4500 - 15s - loss: 0.4415 - accuracy: 0.7873 - val_loss: 0.5269 - val_accuracy: 0.7461\n",
            "Epoch 25/50\n",
            "4500/4500 - 15s - loss: 0.4414 - accuracy: 0.7872 - val_loss: 0.5218 - val_accuracy: 0.7487\n",
            "Epoch 26/50\n",
            "4500/4500 - 15s - loss: 0.4387 - accuracy: 0.7897 - val_loss: 0.5245 - val_accuracy: 0.7434\n",
            "Epoch 27/50\n",
            "4500/4500 - 15s - loss: 0.4381 - accuracy: 0.7889 - val_loss: 0.5261 - val_accuracy: 0.7446\n",
            "Epoch 28/50\n",
            "4500/4500 - 15s - loss: 0.4374 - accuracy: 0.7904 - val_loss: 0.5220 - val_accuracy: 0.7489\n",
            "Epoch 29/50\n",
            "4500/4500 - 15s - loss: 0.4379 - accuracy: 0.7906 - val_loss: 0.5224 - val_accuracy: 0.7466\n",
            "Epoch 30/50\n",
            "4500/4500 - 15s - loss: 0.4365 - accuracy: 0.7907 - val_loss: 0.5168 - val_accuracy: 0.7447\n",
            "Epoch 31/50\n",
            "4500/4500 - 15s - loss: 0.4371 - accuracy: 0.7900 - val_loss: 0.5212 - val_accuracy: 0.7493\n",
            "Epoch 32/50\n",
            "4500/4500 - 15s - loss: 0.4361 - accuracy: 0.7911 - val_loss: 0.5244 - val_accuracy: 0.7442\n",
            "Epoch 33/50\n",
            "4500/4500 - 15s - loss: 0.4327 - accuracy: 0.7926 - val_loss: 0.5227 - val_accuracy: 0.7445\n",
            "Epoch 34/50\n",
            "4500/4500 - 15s - loss: 0.4354 - accuracy: 0.7906 - val_loss: 0.5238 - val_accuracy: 0.7446\n",
            "Epoch 35/50\n",
            "4500/4500 - 15s - loss: 0.4336 - accuracy: 0.7925 - val_loss: 0.5218 - val_accuracy: 0.7459\n",
            "Epoch 36/50\n",
            "4500/4500 - 15s - loss: 0.4328 - accuracy: 0.7927 - val_loss: 0.5276 - val_accuracy: 0.7479\n",
            "Epoch 37/50\n",
            "4500/4500 - 15s - loss: 0.4327 - accuracy: 0.7932 - val_loss: 0.5280 - val_accuracy: 0.7469\n",
            "Epoch 38/50\n",
            "4500/4500 - 15s - loss: 0.4342 - accuracy: 0.7921 - val_loss: 0.5214 - val_accuracy: 0.7476\n",
            "Epoch 39/50\n",
            "4500/4500 - 15s - loss: 0.4336 - accuracy: 0.7919 - val_loss: 0.5255 - val_accuracy: 0.7503\n",
            "Epoch 40/50\n",
            "4500/4500 - 15s - loss: 0.4324 - accuracy: 0.7941 - val_loss: 0.5184 - val_accuracy: 0.7479\n",
            "Epoch 41/50\n",
            "4500/4500 - 15s - loss: 0.4309 - accuracy: 0.7943 - val_loss: 0.5252 - val_accuracy: 0.7440\n",
            "Epoch 42/50\n",
            "4500/4500 - 15s - loss: 0.4316 - accuracy: 0.7936 - val_loss: 0.5264 - val_accuracy: 0.7441\n",
            "Epoch 43/50\n",
            "4500/4500 - 15s - loss: 0.4312 - accuracy: 0.7946 - val_loss: 0.5274 - val_accuracy: 0.7475\n",
            "Epoch 44/50\n",
            "4500/4500 - 15s - loss: 0.4315 - accuracy: 0.7933 - val_loss: 0.5278 - val_accuracy: 0.7448\n",
            "Epoch 45/50\n",
            "4500/4500 - 15s - loss: 0.4305 - accuracy: 0.7935 - val_loss: 0.5326 - val_accuracy: 0.7471\n",
            "Epoch 46/50\n",
            "4500/4500 - 15s - loss: 0.4304 - accuracy: 0.7940 - val_loss: 0.5305 - val_accuracy: 0.7459\n",
            "Epoch 47/50\n",
            "4500/4500 - 15s - loss: 0.4292 - accuracy: 0.7955 - val_loss: 0.5272 - val_accuracy: 0.7452\n",
            "Epoch 48/50\n",
            "4500/4500 - 15s - loss: 0.4307 - accuracy: 0.7952 - val_loss: 0.5228 - val_accuracy: 0.7491\n",
            "Epoch 49/50\n",
            "4500/4500 - 15s - loss: 0.4298 - accuracy: 0.7949 - val_loss: 0.5250 - val_accuracy: 0.7455\n",
            "Epoch 50/50\n",
            "4500/4500 - 15s - loss: 0.4275 - accuracy: 0.7954 - val_loss: 0.5256 - val_accuracy: 0.7488\n",
            "Training Complete\n"
          ],
          "name": "stdout"
        }
      ]
    },
    {
      "cell_type": "code",
      "metadata": {
        "colab_type": "code",
        "id": "qxju4ItJKO8F",
        "colab": {
          "base_uri": "https://localhost:8080/",
          "height": 607
        },
        "outputId": "53de4a42-2950-494d-cf28-445fe4591881"
      },
      "source": [
        "import matplotlib.image  as mpimg\n",
        "import matplotlib.pyplot as plt\n",
        "\n",
        "#-----------------------------------------------------------\n",
        "# Retrieve a list of list results on training and test data\n",
        "# sets for each training epoch\n",
        "#-----------------------------------------------------------\n",
        "acc=history.history['accuracy']\n",
        "val_acc=history.history['val_accuracy']\n",
        "loss=history.history['loss']\n",
        "val_loss=history.history['val_loss']\n",
        "\n",
        "epochs=range(len(acc)) # Get number of epochs\n",
        "\n",
        "#------------------------------------------------\n",
        "# Plot training and validation accuracy per epoch\n",
        "#------------------------------------------------\n",
        "plt.plot(epochs, acc, 'r')\n",
        "plt.plot(epochs, val_acc, 'b')\n",
        "plt.title('Training and validation accuracy')\n",
        "plt.xlabel(\"Epochs\")\n",
        "plt.ylabel(\"Accuracy\")\n",
        "plt.legend([\"Accuracy\", \"Validation Accuracy\"])\n",
        "\n",
        "plt.figure()\n",
        "\n",
        "#------------------------------------------------\n",
        "# Plot training and validation loss per epoch\n",
        "#------------------------------------------------\n",
        "plt.plot(epochs, loss, 'r')\n",
        "plt.plot(epochs, val_loss, 'b')\n",
        "plt.title('Training and validation loss')\n",
        "plt.xlabel(\"Epochs\")\n",
        "plt.ylabel(\"Loss\")\n",
        "plt.legend([\"Loss\", \"Validation Loss\"])\n",
        "\n",
        "plt.figure()\n",
        "\n",
        "\n",
        "# Expected Output\n",
        "# A chart where the validation loss does not increase sharply!"
      ],
      "execution_count": 10,
      "outputs": [
        {
          "output_type": "execute_result",
          "data": {
            "text/plain": [
              "<Figure size 432x288 with 0 Axes>"
            ]
          },
          "metadata": {
            "tags": []
          },
          "execution_count": 10
        },
        {
          "output_type": "display_data",
          "data": {
            "image/png": "[encoded data removed]",
            "text/plain": [
              "<Figure size 432x288 with 1 Axes>"
            ]
          },
          "metadata": {
            "tags": [],
            "needs_background": "light"
          }
        },
        {
          "output_type": "display_data",
          "data": {
            "image/png": "[encoded data removed]",
            "text/plain": [
              "<Figure size 432x288 with 1 Axes>"
            ]
          },
          "metadata": {
            "tags": [],
            "needs_background": "light"
          }
        },
        {
          "output_type": "display_data",
          "data": {
            "text/plain": [
              "<Figure size 432x288 with 0 Axes>"
            ]
          },
          "metadata": {
            "tags": []
          }
        }
      ]
    }
  ]
}